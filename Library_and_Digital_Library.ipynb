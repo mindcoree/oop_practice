{
 "cells": [
  {
   "metadata": {},
   "cell_type": "markdown",
   "source": "### Задача 1: Класс Library и подкласс DigitalLibrary Создайте класс Library, который хранит информацию о книгах. Класс должен иметь атрибут books (список названий книг), методы для добавления книги и магические методы: len для определения количества книг, getitem для доступа к книге по индексу и str для возвращения списка книг в виде строки, разделенной запятыми. Затем создайте подкласс DigitalLibrary, который расширяет функционал базового класса, добавляя атрибут ebooks (список названий электронных книг). Переопределите метод добавления книги, чтобы в зависимости от параметра книга добавлялась либо в обычный список, либо в электронный. Также реализуйте магический метод repr, чтобы строковое представление класса включало как обычные, так и электронные книги.",
   "id": "22c7a31e12d784da"
  },
  {
   "cell_type": "code",
   "id": "initial_id",
   "metadata": {
    "collapsed": true,
    "ExecuteTime": {
     "end_time": "2025-02-03T07:33:53.219457Z",
     "start_time": "2025-02-03T07:33:53.208633Z"
    }
   },
   "source": [
    "class Library:\n",
    "    def __init__(self):\n",
    "        self.books = []\n",
    "    \n",
    "    def __len__(self):\n",
    "        return len(self.books)\n",
    "    \n",
    "    def append(self,name_book):\n",
    "        self.books.append(name_book)\n",
    "        \n",
    "    def __getitem__(self, item):\n",
    "        return self.books[item]\n",
    "    \n",
    "    def __str__(self):\n",
    "        lst_books = ', '.join([f\"{book}\" for book in self.books])\n",
    "        return f\"Книги: {lst_books}\"\n",
    "        \n",
    "        \n",
    "class DigitalLibrary(Library):\n",
    "    def __init__(self):\n",
    "        super().__init__()\n",
    "        self.ebooks = []\n",
    "    \n",
    "    def append(self,book,electronic=False):\n",
    "        if electronic:\n",
    "            self.ebooks.append(book)\n",
    "        else:\n",
    "            self.books.append(book)\n",
    "            \n",
    "    def __str__(self):\n",
    "        lst_ebooks = ', '.join([f\"{ebook}\" for ebook in self.ebooks])\n",
    "        return f\"Электронные книги: {lst_ebooks}\"\n",
    "    \n",
    "    def __repr__(self):\n",
    "        return f\"DigitalLibrary(ebooks={self.ebooks}, books={self.books})\"\n",
    "    \n",
    "        \n",
    "        \n",
    "lib = Library()\n",
    "lib.append('lol')\n",
    "lib.append('aloi')\n",
    "elib = DigitalLibrary()\n",
    "elib.append('electomath',True)\n",
    "print(elib)\n",
    "\n",
    "print(lib)\n",
    "print(repr(elib))"
   ],
   "outputs": [
    {
     "name": "stdout",
     "output_type": "stream",
     "text": [
      "Электронные книги: electomath\n",
      "Книги: lol, aloi\n",
      "DigitalLibrary(ebooks=['electomath'])\n"
     ]
    }
   ],
   "execution_count": 36
  }
 ],
 "metadata": {
  "kernelspec": {
   "display_name": "Python 3",
   "language": "python",
   "name": "python3"
  },
  "language_info": {
   "codemirror_mode": {
    "name": "ipython",
    "version": 2
   },
   "file_extension": ".py",
   "mimetype": "text/x-python",
   "name": "python",
   "nbconvert_exporter": "python",
   "pygments_lexer": "ipython2",
   "version": "2.7.6"
  }
 },
 "nbformat": 4,
 "nbformat_minor": 5
}
