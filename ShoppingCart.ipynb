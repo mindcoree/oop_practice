{
 "cells": [
  {
   "metadata": {},
   "cell_type": "markdown",
   "source": "## Задача: Класс ShoppingCart Создайте класс ShoppingCart, который представляет корзину покупок. Класс должен содержать атрибут items (словарь, где ключ — название товара, а значение — его количество). Реализуйте методы для добавления товаров, магический метод len, который возвращает общее количество товаров, магический метод getitem, позволяющий узнать количество конкретного товара по его названию, и магический метод call, возвращающий список всех товаров в корзине в виде строки, разделенной запятыми.",
   "id": "ca1a455198a63067"
  },
  {
   "cell_type": "code",
   "id": "initial_id",
   "metadata": {
    "collapsed": true,
    "ExecuteTime": {
     "end_time": "2025-03-16T19:10:46.920753Z",
     "start_time": "2025-03-16T19:10:46.914043Z"
    }
   },
   "source": [
    "class ShoppingCart:\n",
    "    def __init__(self):\n",
    "        self.items = dict() # key-названия тов. value- количество тов.\n",
    "    \n",
    "    def __len__(self):\n",
    "        return len(self.items.keys())\n",
    "    \n",
    "    def __getitem__(self, name_product ):\n",
    "        return self.items[name_product]\n",
    "    \n",
    "    def __call__(self,name_product=None):\n",
    "        if name_product in self.items.keys():\n",
    "            print(f'Product:{name_product}, Count product: {self.items.get(name_product)}')\n",
    "        else:\n",
    "            print('The product was not found.')\n",
    "            \n",
    "Sc = ShoppingCart()\n",
    "\n",
    "Sc.items['potato'] = 10\n",
    "Sc.items['tomato'] = 7\n",
    "print(Sc['potato'])\n",
    "Sc('tomato')\n",
    "Sc()"
   ],
   "outputs": [
    {
     "name": "stdout",
     "output_type": "stream",
     "text": [
      "10\n",
      "Product:tomato, Count product: 7\n",
      "The product was not found.\n"
     ]
    }
   ],
   "execution_count": 9
  },
  {
   "metadata": {},
   "cell_type": "code",
   "outputs": [],
   "execution_count": null,
   "source": "",
   "id": "3680f320e8389d9c"
  }
 ],
 "metadata": {
  "kernelspec": {
   "display_name": "Python 3",
   "language": "python",
   "name": "python3"
  },
  "language_info": {
   "codemirror_mode": {
    "name": "ipython",
    "version": 2
   },
   "file_extension": ".py",
   "mimetype": "text/x-python",
   "name": "python",
   "nbconvert_exporter": "python",
   "pygments_lexer": "ipython2",
   "version": "2.7.6"
  }
 },
 "nbformat": 4,
 "nbformat_minor": 5
}
