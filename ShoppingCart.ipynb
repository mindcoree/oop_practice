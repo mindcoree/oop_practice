{
 "cells": [
  {
   "metadata": {},
   "cell_type": "markdown",
   "source": "## Задача: Класс ShoppingCart Создайте класс ShoppingCart, который представляет корзину покупок. Класс должен содержать атрибут items (словарь, где ключ — название товара, а значение — его количество). Реализуйте методы для добавления товаров, магический метод len, который возвращает общее количество товаров, магический метод getitem, позволяющий узнать количество конкретного товара по его названию, и магический метод call, возвращающий список всех товаров в корзине в виде строки, разделенной запятыми.",
   "id": "ca1a455198a63067"
  },
  {
   "cell_type": "code",
   "execution_count": null,
   "id": "initial_id",
   "metadata": {
    "collapsed": true
   },
   "outputs": [],
   "source": [
    "class ShoppingCart:\n",
    "    def __init__(self):\n",
    "        self.items = dict() # key-названия тов. value- количество тов.\n",
    "    \n",
    "    def __len__(self):\n",
    "        return len(self.items.keys())\n",
    "    \n",
    "    def __getitem__(self, name_product ):\n",
    "        return self.items[name_product]\n",
    "    \n",
    "    def __call__(self,name_product=None):\n",
    "        if name_product in self.items.keys():\n",
    "            print(f'Product:{name_product}, Count product: {self.items.get(name_product)}')\n",
    "        else:\n",
    "            print('The product was not found.')\n",
    "            \n",
    "Sc = ShoppingCart()\n",
    "\n",
    "Sc.items['potato'] = 10\n",
    "Sc.items['tomato'] = 7\n",
    "print(Sc['potato'])\n",
    "Sc('tomato')\n",
    "Sc()"
   ]
  }
 ],
 "metadata": {
  "kernelspec": {
   "display_name": "Python 3",
   "language": "python",
   "name": "python3"
  },
  "language_info": {
   "codemirror_mode": {
    "name": "ipython",
    "version": 2
   },
   "file_extension": ".py",
   "mimetype": "text/x-python",
   "name": "python",
   "nbconvert_exporter": "python",
   "pygments_lexer": "ipython2",
   "version": "2.7.6"
  }
 },
 "nbformat": 4,
 "nbformat_minor": 5
}
