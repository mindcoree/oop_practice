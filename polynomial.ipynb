{
 "cells": [
  {
   "metadata": {},
   "cell_type": "markdown",
   "source": "## Задача: Класс Polynomial Создайте класс Polynomial, который представляет многочлен. Класс должен иметь атрибут coefficients (список коэффициентов), где индекс каждого элемента соответствует степени. Реализуйте магический метод str для возвращения многочлена в удобочитаемом виде, метод repr для отображения коэффициентов в формате Python, магический метод add для сложения двух многочленов, а также метод getitem, который возвращает коэффициент многочлена по заданной степени.",
   "id": "c2a8b992cca24005"
  },
  {
   "cell_type": "code",
   "id": "initial_id",
   "metadata": {
    "collapsed": true,
    "ExecuteTime": {
     "end_time": "2025-03-16T19:01:58.915571Z",
     "start_time": "2025-03-16T19:01:58.903893Z"
    }
   },
   "source": [
    "from sympy import *\n",
    "\n",
    "x = symbols('x')\n",
    "\n",
    "class Polynomial:\n",
    "    def __init__(self,coefficients):\n",
    "        self.coefficients = coefficients\n",
    "    \n",
    "    def __str__(self):\n",
    "        n = len(self.coefficients) - 1 \n",
    "        summa = sum(self.coefficients[i] * (x**i) for i in range(n + 1))\n",
    "        \n",
    "        return str(summa)\n",
    "    \n",
    "    def __add__(self, other):\n",
    "        if not isinstance(other,Polynomial):\n",
    "            return f\"Error {other} is not an object Polynomial\"\n",
    "        \n",
    "        max_length_coefficients = max(len(self.coefficients),len(other.coefficients))\n",
    "        new_coefficients = [0] * max_length_coefficients\n",
    "        \n",
    "        for index,coefficient in enumerate(self.coefficients):\n",
    "            new_coefficients[index] += coefficient\n",
    "        \n",
    "        for index,coefficient in enumerate(other.coefficients):\n",
    "            new_coefficients[index] += coefficient\n",
    "            \n",
    "        return Polynomial(new_coefficients)  \n",
    "       \n",
    "    def __getitem__(self, item):\n",
    "           return self.coefficients[item]\n",
    "            \n",
    "    \n",
    "    def __repr__(self):\n",
    "        return f\"Polynomial(coefficients={self.coefficients})\"\n",
    "\n",
    "\n",
    "pl = Polynomial([1,2,3])\n",
    "pl2 = Polynomial([9,6,7,8])\n",
    "print(pl+pl2)\n",
    "print(pl2)\n",
    "repr(pl)\n",
    "print(pl)\n"
   ],
   "outputs": [
    {
     "name": "stdout",
     "output_type": "stream",
     "text": [
      "8*x**3 + 10*x**2 + 8*x + 10\n",
      "8*x**3 + 7*x**2 + 6*x + 9\n",
      "3*x**2 + 2*x + 1\n"
     ]
    }
   ],
   "execution_count": 15
  },
  {
   "metadata": {},
   "cell_type": "code",
   "outputs": [],
   "source": "",
   "id": "e6e9805a6cd3377d",
   "execution_count": null
  }
 ],
 "metadata": {
  "kernelspec": {
   "display_name": "Python 3",
   "language": "python",
   "name": "python3"
  },
  "language_info": {
   "codemirror_mode": {
    "name": "ipython",
    "version": 2
   },
   "file_extension": ".py",
   "mimetype": "text/x-python",
   "name": "python",
   "nbconvert_exporter": "python",
   "pygments_lexer": "ipython2",
   "version": "2.7.6"
  }
 },
 "nbformat": 4,
 "nbformat_minor": 5
}
